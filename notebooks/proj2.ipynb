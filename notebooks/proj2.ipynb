{
 "cells": [
  {
   "cell_type": "markdown",
   "id": "dc32325d",
   "metadata": {},
   "source": [
    "# DSP Lab 2022-23"
   ]
  },
  {
   "cell_type": "markdown",
   "id": "d378eca7",
   "metadata": {},
   "source": [
    "\n",
    "This lab assignment requires preparation before the lab session.\n",
    "\n",
    "Paragraphs that start with ❓explain what you will need to do in the following cell.\n",
    "\n",
    "Before you turn this notebook in, make sure everything runs as expected. First, **restart the kernel** (in the menubar, select Kernel$\\rightarrow$Restart) and then **run all cells** (in the menubar, select Cell$\\rightarrow$Run All).\n"
   ]
  },
  {
   "cell_type": "markdown",
   "id": "4cae37a0",
   "metadata": {},
   "source": [
    "---"
   ]
  },
  {
   "cell_type": "markdown",
   "id": "03e6c8ef",
   "metadata": {
    "deletable": false,
    "editable": false,
    "nbgrader": {
     "cell_type": "markdown",
     "checksum": "8003bbc3d7ef0fa0c9bbfbeabc2500a1",
     "grade": false,
     "grade_id": "cell-5a2ad45c63d0aec3",
     "locked": true,
     "schema_version": 3,
     "solution": false,
     "task": false
    }
   },
   "source": [
    "## Proj2 - Polyphonic Synthesis\n",
    "\n",
    "In this second part of the project, it is intended to use a sequence of musical notes, duration, and intensity to generate a synthesized version of the same melody in a similar way to what was done in the Lab2 assignment. In that work, a monophonic synthesizer was used which can only produce one note at a time. A polyphonic synthesizer can start playing a different note before the previous one ends, and it can also produce chords. The ability to start a note before the end of the previous one is essential for creating sounds similar to those produced by a piano or a guitar. The [PySynth](https://mdoege.github.io/PySynth/) system page presents several examples of audio signals produced by overlaying simple synthesis modules."
   ]
  },
  {
   "cell_type": "markdown",
   "id": "2f194532",
   "metadata": {
    "deletable": false,
    "editable": false,
    "nbgrader": {
     "cell_type": "markdown",
     "checksum": "b365ab1b99e425a7b21a32dc23ef274e",
     "grade": false,
     "grade_id": "cell-26b44b7faf8df2f4",
     "locked": true,
     "schema_version": 3,
     "solution": false,
     "task": false
    }
   },
   "source": [
    "### Group and Student ID\n",
    "\n",
    "❓Initialize the variable `group_id` with the number that Fenix assigned to your group and `ist_id1` and `ist_id2` with your student numbers."
   ]
  },
  {
   "cell_type": "code",
   "execution_count": null,
   "id": "d7c9e10b",
   "metadata": {
    "deletable": false,
    "nbgrader": {
     "cell_type": "code",
     "checksum": "e10b2a0bc0765d2e1aeeb8beabee1267",
     "grade": false,
     "grade_id": "cell-2acee589c7979f8e",
     "locked": false,
     "schema_version": 3,
     "solution": true,
     "task": false
    }
   },
   "outputs": [],
   "source": [
    "# YOUR CODE HERE\n",
    "raise NotImplementedError()\n",
    "\n",
    "print(f\"Group number: {group_id}\")\n",
    "print(f\"Student number: {ist_id1}\")\n",
    "print(f\"Student number: {ist_id2}\")"
   ]
  },
  {
   "cell_type": "code",
   "execution_count": null,
   "id": "470d5d3c",
   "metadata": {
    "deletable": false,
    "editable": false,
    "nbgrader": {
     "cell_type": "code",
     "checksum": "3b89f822ef8b98eb5cd5d414d3426de5",
     "grade": true,
     "grade_id": "cell-af624e6642d3e7fd",
     "locked": true,
     "points": 10,
     "schema_version": 3,
     "solution": false,
     "task": false
    }
   },
   "outputs": [],
   "source": [
    "assert isinstance(group_id, int) and isinstance(ist_id1, int) and isinstance(ist_id2, int)\n",
    "assert (group_id > 0) and (group_id < 35)\n",
    "assert (ist_id1 > 60000) and (ist_id1 < 120000) and (ist_id2 > 60000) and (ist_id2 < 120000)"
   ]
  },
  {
   "cell_type": "markdown",
   "id": "4272dc2e",
   "metadata": {
    "deletable": false,
    "editable": false,
    "nbgrader": {
     "cell_type": "markdown",
     "checksum": "c10e5cc25909fe4a4fff08a5b4105477",
     "grade": false,
     "grade_id": "cell-2d42c71173d5198f",
     "locked": true,
     "schema_version": 3,
     "solution": false,
     "task": false
    }
   },
   "source": [
    "### Instructions and Description\n",
    "\n",
    "❓Explain how to use your code and describe how it works."
   ]
  },
  {
   "cell_type": "markdown",
   "id": "3f42e583",
   "metadata": {
    "deletable": false,
    "nbgrader": {
     "cell_type": "markdown",
     "checksum": "336a8fc7cd62edea7746320733c6fed7",
     "grade": true,
     "grade_id": "cell-8cfedd49f305e6c7",
     "locked": false,
     "points": 50,
     "schema_version": 3,
     "solution": true,
     "task": false
    }
   },
   "source": [
    "YOUR ANSWER HERE"
   ]
  },
  {
   "cell_type": "markdown",
   "id": "087ae134",
   "metadata": {
    "deletable": false,
    "editable": false,
    "nbgrader": {
     "cell_type": "markdown",
     "checksum": "74fa334b0929869f7702ed56a09713ce",
     "grade": false,
     "grade_id": "cell-4dc38547ad5b7f34",
     "locked": true,
     "points": 50,
     "schema_version": 3,
     "solution": false,
     "task": true
    }
   },
   "source": [
    "### Code\n",
    "\n",
    "❓Place you code in the next cells. You can include additional code and text cells.\n",
    "\n"
   ]
  },
  {
   "cell_type": "code",
   "execution_count": null,
   "id": "135b43f1",
   "metadata": {},
   "outputs": [],
   "source": []
  },
  {
   "cell_type": "code",
   "execution_count": null,
   "id": "82196813",
   "metadata": {},
   "outputs": [],
   "source": []
  },
  {
   "cell_type": "code",
   "execution_count": null,
   "id": "712b5a1f",
   "metadata": {},
   "outputs": [],
   "source": []
  },
  {
   "cell_type": "markdown",
   "id": "50c89aaf",
   "metadata": {
    "deletable": false,
    "editable": false,
    "nbgrader": {
     "cell_type": "markdown",
     "checksum": "a6715e251b0e9d0ec0276b4a17e7ff5c",
     "grade": false,
     "grade_id": "cell-128ce6c2b44b0fb1",
     "locked": true,
     "schema_version": 3,
     "solution": false,
     "task": false
    }
   },
   "source": [
    "### Assessment\n",
    "\n",
    "❓Assess the quality of the synthesized audio files. Explain the current limitations of the system and what can be done to improve it."
   ]
  },
  {
   "cell_type": "markdown",
   "id": "dd630a7f",
   "metadata": {
    "deletable": false,
    "nbgrader": {
     "cell_type": "markdown",
     "checksum": "08c10d94c2e5437dd7bf2967cfb8f784",
     "grade": true,
     "grade_id": "cell-13b1cef5f7407fdf",
     "locked": false,
     "points": 50,
     "schema_version": 3,
     "solution": true,
     "task": false
    }
   },
   "source": [
    "YOUR ANSWER HERE"
   ]
  },
  {
   "cell_type": "markdown",
   "id": "50e293a0",
   "metadata": {
    "deletable": false,
    "editable": false,
    "nbgrader": {
     "cell_type": "markdown",
     "checksum": "fbfd3b3c5a746cd579c4767c176853b3",
     "grade": false,
     "grade_id": "cell-a6c9ef69740bf836",
     "locked": true,
     "points": 40,
     "schema_version": 3,
     "solution": false,
     "task": true
    }
   },
   "source": [
    "### Code tests\n",
    "\n",
    "❓Use the next cells to include tests of your code. Call the functions that you have developed with known inputs and compare its return values with the expected results.\n",
    "\n"
   ]
  },
  {
   "cell_type": "code",
   "execution_count": null,
   "id": "7cffaa17",
   "metadata": {},
   "outputs": [],
   "source": []
  },
  {
   "cell_type": "code",
   "execution_count": null,
   "id": "ddfc1b3d",
   "metadata": {},
   "outputs": [],
   "source": []
  }
 ],
 "metadata": {
  "kernelspec": {
   "display_name": "Python 3 (ipykernel)",
   "language": "python",
   "name": "python3"
  },
  "language_info": {
   "codemirror_mode": {
    "name": "ipython",
    "version": 3
   },
   "file_extension": ".py",
   "mimetype": "text/x-python",
   "name": "python",
   "nbconvert_exporter": "python",
   "pygments_lexer": "ipython3",
   "version": "3.9.16"
  }
 },
 "nbformat": 4,
 "nbformat_minor": 5
}
