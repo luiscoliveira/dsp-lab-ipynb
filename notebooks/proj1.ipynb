{
 "cells": [
  {
   "cell_type": "markdown",
   "id": "a8fbb19f",
   "metadata": {},
   "source": [
    "# DSP Lab 2022-23"
   ]
  },
  {
   "cell_type": "markdown",
   "id": "5c0e72c8",
   "metadata": {},
   "source": [
    "\n",
    "This lab assignment requires preparation before the lab session.\n",
    "\n",
    "Paragraphs that start with ❓explain what you will need to do in the following cell.\n",
    "\n",
    "Before you turn this notebook in, make sure everything runs as expected. First, **restart the kernel** (in the menubar, select Kernel$\\rightarrow$Restart) and then **run all cells** (in the menubar, select Cell$\\rightarrow$Run All).\n"
   ]
  },
  {
   "cell_type": "markdown",
   "id": "34b5d618",
   "metadata": {},
   "source": [
    "---"
   ]
  },
  {
   "cell_type": "markdown",
   "id": "03e6c8ef",
   "metadata": {
    "deletable": false,
    "editable": false,
    "nbgrader": {
     "cell_type": "markdown",
     "checksum": "dd1deaa600ba74d13ea199e0ea7c55ff",
     "grade": false,
     "grade_id": "cell-5a2ad45c63d0aec3",
     "locked": true,
     "schema_version": 3,
     "solution": false,
     "task": false
    }
   },
   "source": [
    "## Proj1 - Onset Detection\n",
    "\n",
    "This first part of the project is dedicated to the automatic location of the beginning of each note in recordings of melodies played by a musical instrument or sung by a human voice. The system can be optimized for a particular instrument or singing style. The melody to be analyzed must have at least 15 musical notes and the system must have a reasonable performance in, at least, 3 different recordings. The chosen recordings must have an annotation of the onsets that can be annotated by the students using, for example, the audio editing software [Audacity](https://www.audacityteam.org). The article [Faghih et al. (2022)](https://www.mdpi.com/2076-3417/12/15/7391) describes several tools for the automatic detection of onsets and performance assessment.\n",
    "\n",
    "#### References\n",
    "Faghih, Behnam, Sutirtha Chakraborty, Azeema Yaseen, and Joseph Timoney. ‘A New Method for Detecting Onset and Offset for Singing in Real-Time and Offline Environments’. _Applied Sciences_ 12, no. 15 (January 2022): 7391. [https://doi.org/10.3390/app12157391](https://doi.org/10.3390/app12157391)."
   ]
  },
  {
   "cell_type": "markdown",
   "id": "2f194532",
   "metadata": {
    "deletable": false,
    "editable": false,
    "nbgrader": {
     "cell_type": "markdown",
     "checksum": "b365ab1b99e425a7b21a32dc23ef274e",
     "grade": false,
     "grade_id": "cell-26b44b7faf8df2f4",
     "locked": true,
     "schema_version": 3,
     "solution": false,
     "task": false
    }
   },
   "source": [
    "### Group and Student ID\n",
    "\n",
    "❓Initialize the variable `group_id` with the number that Fenix assigned to your group and `ist_id1` and `ist_id2` with your student numbers."
   ]
  },
  {
   "cell_type": "code",
   "execution_count": null,
   "id": "d7c9e10b",
   "metadata": {
    "deletable": false,
    "nbgrader": {
     "cell_type": "code",
     "checksum": "e10b2a0bc0765d2e1aeeb8beabee1267",
     "grade": false,
     "grade_id": "cell-2acee589c7979f8e",
     "locked": false,
     "schema_version": 3,
     "solution": true,
     "task": false
    }
   },
   "outputs": [],
   "source": [
    "# YOUR CODE HERE\n",
    "raise NotImplementedError()\n",
    "\n",
    "print(f\"Group number: {group_id}\")\n",
    "print(f\"Student number: {ist_id1}\")\n",
    "print(f\"Student number: {ist_id2}\")"
   ]
  },
  {
   "cell_type": "code",
   "execution_count": null,
   "id": "470d5d3c",
   "metadata": {
    "deletable": false,
    "editable": false,
    "nbgrader": {
     "cell_type": "code",
     "checksum": "3b89f822ef8b98eb5cd5d414d3426de5",
     "grade": true,
     "grade_id": "cell-af624e6642d3e7fd",
     "locked": true,
     "points": 10,
     "schema_version": 3,
     "solution": false,
     "task": false
    }
   },
   "outputs": [],
   "source": [
    "assert isinstance(group_id, int) and isinstance(ist_id1, int) and isinstance(ist_id2, int)\n",
    "assert (group_id > 0) and (group_id < 35)\n",
    "assert (ist_id1 > 60000) and (ist_id1 < 120000) and (ist_id2 > 60000) and (ist_id2 < 120000)"
   ]
  },
  {
   "cell_type": "markdown",
   "id": "4272dc2e",
   "metadata": {
    "deletable": false,
    "editable": false,
    "nbgrader": {
     "cell_type": "markdown",
     "checksum": "c10e5cc25909fe4a4fff08a5b4105477",
     "grade": false,
     "grade_id": "cell-2d42c71173d5198f",
     "locked": true,
     "schema_version": 3,
     "solution": false,
     "task": false
    }
   },
   "source": [
    "### Instructions and Description\n",
    "\n",
    "❓Explain how to use your code and describe how it works."
   ]
  },
  {
   "cell_type": "markdown",
   "id": "3f42e583",
   "metadata": {
    "deletable": false,
    "nbgrader": {
     "cell_type": "markdown",
     "checksum": "336a8fc7cd62edea7746320733c6fed7",
     "grade": true,
     "grade_id": "cell-8cfedd49f305e6c7",
     "locked": false,
     "points": 50,
     "schema_version": 3,
     "solution": true,
     "task": false
    }
   },
   "source": [
    "YOUR ANSWER HERE"
   ]
  },
  {
   "cell_type": "markdown",
   "id": "087ae134",
   "metadata": {
    "deletable": false,
    "editable": false,
    "nbgrader": {
     "cell_type": "markdown",
     "checksum": "74fa334b0929869f7702ed56a09713ce",
     "grade": false,
     "grade_id": "cell-4dc38547ad5b7f34",
     "locked": true,
     "points": 50,
     "schema_version": 3,
     "solution": false,
     "task": true
    }
   },
   "source": [
    "### Code\n",
    "\n",
    "❓Place you code in the next cells. You can include additional code and text cells.\n",
    "\n"
   ]
  },
  {
   "cell_type": "code",
   "execution_count": null,
   "id": "135b43f1",
   "metadata": {},
   "outputs": [],
   "source": []
  },
  {
   "cell_type": "code",
   "execution_count": null,
   "id": "82196813",
   "metadata": {},
   "outputs": [],
   "source": []
  },
  {
   "cell_type": "code",
   "execution_count": null,
   "id": "712b5a1f",
   "metadata": {},
   "outputs": [],
   "source": []
  },
  {
   "cell_type": "markdown",
   "id": "50c89aaf",
   "metadata": {
    "deletable": false,
    "editable": false,
    "nbgrader": {
     "cell_type": "markdown",
     "checksum": "02f2915e53dfff93b13a3f4778f37e09",
     "grade": false,
     "grade_id": "cell-128ce6c2b44b0fb1",
     "locked": true,
     "schema_version": 3,
     "solution": false,
     "task": false
    }
   },
   "source": [
    "### Assessment\n",
    "\n",
    "❓Present the perfomance of the onset detector on the test signals and comment the achieved results"
   ]
  },
  {
   "cell_type": "markdown",
   "id": "dd630a7f",
   "metadata": {
    "deletable": false,
    "nbgrader": {
     "cell_type": "markdown",
     "checksum": "08c10d94c2e5437dd7bf2967cfb8f784",
     "grade": true,
     "grade_id": "cell-13b1cef5f7407fdf",
     "locked": false,
     "points": 50,
     "schema_version": 3,
     "solution": true,
     "task": false
    }
   },
   "source": [
    "YOUR ANSWER HERE"
   ]
  },
  {
   "cell_type": "markdown",
   "id": "50e293a0",
   "metadata": {
    "deletable": false,
    "editable": false,
    "nbgrader": {
     "cell_type": "markdown",
     "checksum": "fbfd3b3c5a746cd579c4767c176853b3",
     "grade": false,
     "grade_id": "cell-a6c9ef69740bf836",
     "locked": true,
     "points": 40,
     "schema_version": 3,
     "solution": false,
     "task": true
    }
   },
   "source": [
    "### Code tests\n",
    "\n",
    "❓Use the next cells to include tests of your code. Call the functions that you have developed with known inputs and compare its return values with the expected results.\n",
    "\n"
   ]
  },
  {
   "cell_type": "code",
   "execution_count": null,
   "id": "7cffaa17",
   "metadata": {},
   "outputs": [],
   "source": []
  },
  {
   "cell_type": "code",
   "execution_count": null,
   "id": "ddfc1b3d",
   "metadata": {},
   "outputs": [],
   "source": []
  }
 ],
 "metadata": {
  "kernelspec": {
   "display_name": "Python 3 (ipykernel)",
   "language": "python",
   "name": "python3"
  },
  "language_info": {
   "codemirror_mode": {
    "name": "ipython",
    "version": 3
   },
   "file_extension": ".py",
   "mimetype": "text/x-python",
   "name": "python",
   "nbconvert_exporter": "python",
   "pygments_lexer": "ipython3",
   "version": "3.9.16"
  }
 },
 "nbformat": 4,
 "nbformat_minor": 5
}
