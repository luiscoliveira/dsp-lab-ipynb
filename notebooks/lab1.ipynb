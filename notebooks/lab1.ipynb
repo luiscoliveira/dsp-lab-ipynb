{
 "cells": [
  {
   "cell_type": "markdown",
   "id": "d34c3d11",
   "metadata": {},
   "source": [
    "# DSP Lab 2022-23"
   ]
  },
  {
   "cell_type": "markdown",
   "id": "dbd5e9bd",
   "metadata": {},
   "source": [
    "\n",
    "This lab assignment requires preparation before the lab session. Try to fill in any place that says `YOUR CODE HERE` or \"YOUR ANSWER HERE\" before the session in order to use the limited amount of available time do clarify any doubt or to discuss your solution. Paragraphs that start with ❓explain what you will need to do in the following cell.\n",
    "\n",
    "Before you turn this notebook in, make sure everything runs as expected. First, **restart the kernel** (in the menubar, select Kernel$\\rightarrow$Restart) and then **run all cells** (in the menubar, select Cell$\\rightarrow$Run All).\n"
   ]
  },
  {
   "cell_type": "markdown",
   "id": "1d3b6f9a",
   "metadata": {},
   "source": [
    "---"
   ]
  },
  {
   "cell_type": "markdown",
   "id": "9b6a5a0d",
   "metadata": {
    "deletable": false,
    "editable": false,
    "nbgrader": {
     "cell_type": "markdown",
     "checksum": "ce7600b14f84b50194e0dd9b44bf6d66",
     "grade": false,
     "grade_id": "Title",
     "locked": true,
     "schema_version": 3,
     "solution": false,
     "task": false
    }
   },
   "source": [
    "## Lab1 - Analysis of (Quasi-)Stationary Audio Signals\n",
    "\n",
    "_Luis Caldas de Oliveira_\n",
    "\n",
    "Audio analysis is the process of extracting and interpreting meaningful information from audio signals such as music or speech. It can be used to extract specific features from audio signals.\n",
    "\n",
    "This lab assignment will introduce some tools and concepts for the representation and analysis of (mostly) stationary audio signals.\n",
    "\n",
    "This document was inspired by the \"Sampling and Aliasing\" lab assignment by João Sanches and revised by Rita Cunha, Margarida Silveira, Jorge Marques, Luís B. Almeida, and Pedro Aguiar.\n"
   ]
  },
  {
   "cell_type": "markdown",
   "id": "57c8dfbf",
   "metadata": {
    "deletable": false,
    "editable": false,
    "nbgrader": {
     "cell_type": "markdown",
     "checksum": "cb21966a81df5b284e622f5d24daddd3",
     "grade": false,
     "grade_id": "TeamID",
     "locked": true,
     "schema_version": 3,
     "solution": false,
     "task": false
    }
   },
   "source": [
    "### Group and Student ID\n",
    "\n",
    "#### A01 - Initialize group and student id\n",
    "\n",
    "❓Initialize the variable `group_id` with the number that Fenix assigned to your group and `ist_id1` and `ist_id2` with your student numbers."
   ]
  },
  {
   "cell_type": "code",
   "execution_count": null,
   "id": "b4577985",
   "metadata": {
    "deletable": false,
    "nbgrader": {
     "cell_type": "code",
     "checksum": "dc829000b4dea17c074c8193627ea61e",
     "grade": false,
     "grade_id": "TeamInfo",
     "locked": false,
     "schema_version": 3,
     "solution": true,
     "task": false
    }
   },
   "outputs": [],
   "source": [
    "# YOUR CODE HERE\n",
    "raise NotImplementedError()\n",
    "print(f\"Group number: {group_id}\")\n",
    "print(f\"Student number: {ist_id1}\")\n",
    "print(f\"Student number: {ist_id2}\")"
   ]
  },
  {
   "cell_type": "code",
   "execution_count": null,
   "id": "c31c5bc0",
   "metadata": {
    "deletable": false,
    "editable": false,
    "nbgrader": {
     "cell_type": "code",
     "checksum": "ee09ef08fdd20c70cf32a451234571ad",
     "grade": true,
     "grade_id": "TestTeamInfo",
     "locked": true,
     "points": 5,
     "schema_version": 3,
     "solution": false,
     "task": false
    }
   },
   "outputs": [],
   "source": [
    "assert isinstance(group_id, int) and isinstance(ist_id1, int) and isinstance(ist_id2, int) \n",
    "assert (group_id > 0) and (group_id < 30)\n",
    "assert (ist_id1 > 80000) and (ist_id1 < 120000) and (ist_id2 > 80000) and (ist_id2 < 120000)"
   ]
  },
  {
   "cell_type": "markdown",
   "id": "804b0ae8",
   "metadata": {
    "deletable": false,
    "editable": false,
    "nbgrader": {
     "cell_type": "markdown",
     "checksum": "d5ce0e099fa592d7c8edae497b7e8fd8",
     "grade": false,
     "grade_id": "cell-d158bea835b3f398",
     "locked": true,
     "schema_version": 3,
     "solution": false,
     "task": false
    }
   },
   "source": [
    "### Import NumPy package\n",
    "\n",
    "NumPy is a Python library that provides functions to process multidimensional array objects. The NumPy documentation is available [here](https://numpy.org/doc/1.24/).\n"
   ]
  },
  {
   "cell_type": "code",
   "execution_count": null,
   "id": "4f431683",
   "metadata": {},
   "outputs": [],
   "source": [
    "import numpy as np\n"
   ]
  },
  {
   "cell_type": "markdown",
   "id": "8f074260",
   "metadata": {
    "deletable": false,
    "editable": false,
    "nbgrader": {
     "cell_type": "markdown",
     "checksum": "6af65be5ccff8f2e224e706639e41b7e",
     "grade": false,
     "grade_id": "MusicSignal",
     "locked": true,
     "schema_version": 3,
     "solution": false,
     "task": false
    }
   },
   "source": [
    "## Music signal\n",
    "\n",
    "A musical signal is a type of audio signal composed of a range of frequencies and stable amplitudes in specific time periods. It is typically generated using musical instruments or through digital means such as synthesizers, samplers, and digital audio workstations.\n",
    "\n",
    "A musical note is a sound frequency or pitch that is used to represent a musical tone. Musical notes are typically represented by the letters A through G, which correspond to different pitches on the musical scale.\n",
    "\n",
    "An **octave** is an interval between two musical notes where the higher note is twice the fundamental frequency of the lower note. For example, C4 and C5 represent an octave and can be represented in a musical score as:\n",
    "\n",
    "![Perfect octave](https://upload.wikimedia.org/wikipedia/commons/a/a5/Perfect_octave_on_C.png)\n",
    "\n",
    "An **equal temperament** is a tuning system that divides an octave into equal steps.\n",
    "\n",
    "In Western music, the most common tuning system is the 12-tone equal temperament (12-TET) also called the **chromatic scale** where the frequencies of the **semitones** are equally separated in a logarithmic scale, that is, are separated by $2^\\frac{1}{12} \\approx 1.059462$.\n",
    "\n",
    "The semitones chromatic scale can be represented by the letters:\n",
    "\n",
    "C, C#, D, D#, E, F, F#, G, G#, A, A#, B\n",
    "\n",
    "If $f_{C4}$ is the frequency of the C4 note, the frequency of C\\#4 is $f_{C\\#4} = 2^\\frac{1}{12} f_{C4}$ \n",
    "\n",
    "The semitones have equivalents in solfege's rising scale:\n",
    "\n",
    "Do, Di, Re, Ri, Mi, Fa, Fi, Sol, Si, La, Li, Ti\n",
    "\n",
    "![Chromatic scale](https://upload.wikimedia.org/wikipedia/commons/thumb/2/2f/Chromatische_toonladder.png/600px-Chromatische_toonladder.png)\n"
   ]
  },
  {
   "cell_type": "markdown",
   "id": "7f7707c3",
   "metadata": {
    "deletable": false,
    "editable": false,
    "nbgrader": {
     "cell_type": "markdown",
     "checksum": "2a62e16930af9ec516b44424d6b8c2ae",
     "grade": false,
     "grade_id": "TeamsNote",
     "locked": true,
     "schema_version": 3,
     "solution": false,
     "task": false
    }
   },
   "source": [
    "### Your group's note\n",
    "\n",
    "Each group in the class will have its musical note. To know your group's note, run the next code cell."
   ]
  },
  {
   "cell_type": "code",
   "execution_count": null,
   "id": "3aec8a24",
   "metadata": {
    "deletable": false,
    "editable": false,
    "nbgrader": {
     "cell_type": "code",
     "checksum": "aee49d63d87be70e23cf4706364a6094",
     "grade": false,
     "grade_id": "EqualTemperament",
     "locked": true,
     "schema_version": 3,
     "solution": false,
     "task": false
    }
   },
   "outputs": [],
   "source": [
    "semitones = ['C','C#','D','D#','E','F','F#','G','G#','A','A#','B']\n",
    "group_note = semitones[(ist_id1+ist_id2)%12] + str(3+(group_id-3)%4)\n",
    "print(f\"Your group's note is: {group_note}\")"
   ]
  },
  {
   "cell_type": "markdown",
   "id": "47933643",
   "metadata": {
    "deletable": false,
    "editable": false,
    "nbgrader": {
     "cell_type": "markdown",
     "checksum": "bb8f61d5eb171c9f0dac6a1178e7721d",
     "grade": false,
     "grade_id": "TeamFrequency",
     "locked": true,
     "schema_version": 3,
     "solution": false,
     "task": false
    }
   },
   "source": [
    "### Your group's frequency\n",
    "\n",
    "#### A02 - Calculate the group's frequency\n",
    "\n",
    "❓Using the provided information about the music signal, and knowing that A4 has a frequency of 440 Hz, initialize the variable `group_frequency` with the frequency of your group's note."
   ]
  },
  {
   "cell_type": "code",
   "execution_count": null,
   "id": "d5bbf3a8",
   "metadata": {
    "deletable": false,
    "nbgrader": {
     "cell_type": "code",
     "checksum": "d034646d26e19a6fd9ef520dfadb886b",
     "grade": false,
     "grade_id": "P1-NoteFrequency",
     "locked": false,
     "schema_version": 3,
     "solution": true,
     "task": false
    }
   },
   "outputs": [],
   "source": [
    "# YOUR CODE HERE\n",
    "raise NotImplementedError()\n",
    "print(f\"Your group frequency is: {group_frequency:.2f}\")"
   ]
  },
  {
   "cell_type": "code",
   "execution_count": null,
   "id": "7a92e392",
   "metadata": {
    "deletable": false,
    "editable": false,
    "nbgrader": {
     "cell_type": "code",
     "checksum": "042624c03d12d67b942e00bddd220d80",
     "grade": true,
     "grade_id": "P1-TestNoteFrequency",
     "locked": true,
     "points": 10,
     "schema_version": 3,
     "solution": false,
     "task": false
    }
   },
   "outputs": [],
   "source": [
    "assert (group_frequency > 130) and (group_frequency < 4000)"
   ]
  },
  {
   "cell_type": "markdown",
   "id": "d9bab8a9",
   "metadata": {
    "deletable": false,
    "editable": false,
    "nbgrader": {
     "cell_type": "markdown",
     "checksum": "3bb61569fa52d37b2066e4662320b951",
     "grade": false,
     "grade_id": "SineWave",
     "locked": true,
     "schema_version": 3,
     "solution": false,
     "task": false
    }
   },
   "source": [
    "### Sine wave\n",
    "\n",
    "A sine wave, or sinusoid, is a mathematical curve defined in terms of the $\\sin$ function. A continuous-time sine wave can be defined as:\n",
    "$$\n",
    "x(t)=A\\sin(\\omega t+\\phi)\n",
    "$$\n",
    "\n",
    "where:\n",
    "- $A$ is the amplitude of the sine wave\n",
    "- $\\omega$ is the angular frequency in radians per second\n",
    "- $\\phi$ is the phase in radians\n",
    "\n",
    "The angular frequency is related with the ordinary frequency $f$ (in Hertz) by:\n",
    "$$\n",
    "\\omega=2\\pi f\n",
    "$$\n",
    "\n",
    "The continuous-time sine wave is periodic with period $T=\\frac{1}{f}=\\frac{2\\pi}{\\omega}$.\n",
    "\n",
    "The discrete-time sine wave can be define as:\n",
    "$$\n",
    "x(n) = A \\sin\\left( \\frac{2\\pi}{N}n+\\phi \\right)\n",
    "$$\n",
    "\n",
    "where $N \\in \\mathbb{N}$ is the fundamental period of the sine wave.\n",
    "\n",
    "In the following code block the function `sinewave()` implements a discrete-time sine wave. The function is used to generate a pure tone of 1kHz with the duration of one second at the sampling frequency of 22050 Hz."
   ]
  },
  {
   "cell_type": "code",
   "execution_count": null,
   "id": "91395541",
   "metadata": {
    "deletable": false,
    "editable": false,
    "nbgrader": {
     "cell_type": "code",
     "checksum": "1983e41cab4b4d65d8afa8d7484c0935",
     "grade": false,
     "grade_id": "SineWaveCode",
     "locked": true,
     "schema_version": 3,
     "solution": false,
     "task": false
    }
   },
   "outputs": [],
   "source": [
    "def sinewave(n, w, A=1, phi=0):\n",
    "\treturn A * np.sin(w*n + phi)\n",
    "\n",
    "# Test: generate a 1000 Hz sine wave\n",
    "fs = 22050\n",
    "w = 2*np.pi*1000/fs\n",
    "n = np.arange(0, fs)\n",
    "sine1k = sinewave(n, w)\n",
    "\n",
    "from IPython.display import Audio\n",
    "display(Audio(sine1k, rate=fs))"
   ]
  },
  {
   "cell_type": "markdown",
   "id": "1bd7dc0f",
   "metadata": {
    "deletable": false,
    "editable": false,
    "nbgrader": {
     "cell_type": "markdown",
     "checksum": "46076af74946545574479d89ffa991e8",
     "grade": false,
     "grade_id": "SquareWave",
     "locked": true,
     "schema_version": 3,
     "solution": false,
     "task": false
    }
   },
   "source": [
    "### Square wave\n",
    "\n",
    "A square wave is a mathematical function that alternates between two symmetrical values at a steady frequency. A continuous-time square wave is commonly defined as:\n",
    "$$\n",
    "x(t) = A\\ \\text{sign}(\\sin(\\omega t+\\phi))\n",
    "$$\n",
    "\n",
    "However, this definition can result in 3 possible values for $x(t)$ ($A, -A, 0$) since $\\text{sign}(0)=0$. A better definition is\n",
    "$$\n",
    "x(t) = A (-1)^{\\lfloor \\frac{\\omega t+ \\phi}{\\pi} \\rfloor}\n",
    "$$\n",
    "\n",
    "where $\\lfloor x \\rfloor$ is the [[floor function]] and the remaining parameters are the same as the [[sine wave]]:\n",
    "- $A$ is the amplitude of the square wave\n",
    "- $\\omega$ is the angular frequency in radians per second\n",
    "- $\\phi$ is the phase in radians\n",
    "\n",
    "The discrete-time square wave can be define as:\n",
    "$$\n",
    "x(n) = A (-1)^{\\lfloor 2n/N + \\phi/\\pi \\rfloor}\n",
    "$$\n",
    "\n",
    "where $N \\in \\mathbb{N}$ is the fundamental period. The angular frequency in radians can be computed as:\n",
    "$$\n",
    "\\omega=\\frac{2\\pi}{N}\n",
    "$$\n",
    "\n",
    "The following function `squarewave()` implements a discrete-time square wave:"
   ]
  },
  {
   "cell_type": "code",
   "execution_count": null,
   "id": "6b1b867c",
   "metadata": {
    "deletable": false,
    "editable": false,
    "nbgrader": {
     "cell_type": "code",
     "checksum": "7564f0ef060b6fca877bdb9c28c1d467",
     "grade": false,
     "grade_id": "SquareWaveCode",
     "locked": true,
     "schema_version": 3,
     "solution": false,
     "task": false
    }
   },
   "outputs": [],
   "source": [
    "def squarewave(n, w, A=1, phi=0):\n",
    "\treturn A*(-1)**np.floor((w*n+phi)/np.pi)\n",
    "\n",
    "# Test: generate a 1 square square wave at 1000 Hz\n",
    "w=2*np.pi*1000/fs\n",
    "n=np.arange(0, fs)\n",
    "square1k=squarewave(n, w)\n",
    "\n",
    "from IPython.display import Audio\n",
    "Audio(square1k, rate=fs)"
   ]
  },
  {
   "cell_type": "markdown",
   "id": "1486e45c",
   "metadata": {
    "deletable": false,
    "editable": false,
    "nbgrader": {
     "cell_type": "markdown",
     "checksum": "bb9c4f0f532885a8d91664ff3859cee9",
     "grade": false,
     "grade_id": "cell-0342da2f4c1dbc5c",
     "locked": true,
     "schema_version": 3,
     "solution": false,
     "task": false
    }
   },
   "source": [
    "### Sound perception\n",
    "\n",
    "#### A03 - Compare sound differences\n",
    "\n",
    "❓Describe the audible similarities and differences between the two sounds and try to explain them based on the characteristics of the waveforms (100 words max)"
   ]
  },
  {
   "cell_type": "markdown",
   "id": "0fa4cc98",
   "metadata": {
    "deletable": false,
    "nbgrader": {
     "cell_type": "markdown",
     "checksum": "c857a3d83b0c0e116a8af3df4e909228",
     "grade": true,
     "grade_id": "SineSquareSimDiffs",
     "locked": false,
     "points": 10,
     "schema_version": 3,
     "solution": true,
     "task": false
    }
   },
   "source": [
    "YOUR ANSWER HERE"
   ]
  },
  {
   "cell_type": "markdown",
   "id": "7da7ceda",
   "metadata": {
    "deletable": false,
    "editable": false,
    "nbgrader": {
     "cell_type": "markdown",
     "checksum": "e53b3624b871179e0840d4208acbd547",
     "grade": false,
     "grade_id": "RMS",
     "locked": true,
     "schema_version": 3,
     "solution": false,
     "task": false
    }
   },
   "source": [
    "### Root Mean Square (RMS)\n",
    "\n",
    "For audio signals, the RMS measures the average loudness of the signal.\n",
    "\n",
    "The root mean square (RMS) of a sequence of $N$ values is the square root of the arithmetic mean of the squares of the values, that is\n",
    "$$\n",
    "x_{RMS}=\\sqrt{ \\frac{1}{N} \\sum_{n=0}^{N-1}\\left[x(n)\\right]^{2}}\n",
    "$$\n",
    "\n",
    "#### A04 - Function to compute RMS\n",
    "\n",
    "❓Write a function that computes the RMS of a sequence of numbers"
   ]
  },
  {
   "cell_type": "code",
   "execution_count": null,
   "id": "5294d2e1",
   "metadata": {
    "deletable": false,
    "nbgrader": {
     "cell_type": "code",
     "checksum": "911f648b322a64505094afa5f4b5222e",
     "grade": false,
     "grade_id": "P2-RMSCode",
     "locked": false,
     "schema_version": 3,
     "solution": true,
     "task": false
    }
   },
   "outputs": [],
   "source": [
    "\n",
    "def rms(x):\n",
    "    \"\"\" computes the root mean square of the values in x\n",
    "    \"\"\"\n",
    "    # YOUR CODE HERE\n",
    "    raise NotImplementedError()"
   ]
  },
  {
   "cell_type": "code",
   "execution_count": null,
   "id": "59e81f5b",
   "metadata": {
    "deletable": false,
    "editable": false,
    "nbgrader": {
     "cell_type": "code",
     "checksum": "f3d61376cf9d346490f58dc7c7aae6cd",
     "grade": true,
     "grade_id": "P2-RMSTest",
     "locked": true,
     "points": 10,
     "schema_version": 3,
     "solution": false,
     "task": false
    }
   },
   "outputs": [],
   "source": [
    "assert np.isclose(rms(np.ones(64)),1)"
   ]
  },
  {
   "cell_type": "markdown",
   "id": "90cf7129",
   "metadata": {
    "deletable": false,
    "editable": false,
    "nbgrader": {
     "cell_type": "markdown",
     "checksum": "ce3a1fedd3b3b990cea5a81146c7e3f6",
     "grade": false,
     "grade_id": "TimeVis",
     "locked": true,
     "schema_version": 3,
     "solution": false,
     "task": false
    }
   },
   "source": [
    "### Time domain visualization\n",
    "\n",
    "The python package LibROSA provides several functions to analyze and process audio signals. The `librosa.display.waveshow()` function can be used to display long signals in a compact format. Depending on the size of the signal to be displayed it adaptively switches between a raw samples-based view and an amplitude-envelope view.\n",
    "\n",
    "In the next code block we will fetch an example audio signal from the LibROSA repository and show how it changes with time. You can also use `librosa.load()` to read sound files in several formats (wav, mp3, etc.)."
   ]
  },
  {
   "cell_type": "code",
   "execution_count": null,
   "id": "91a554d2",
   "metadata": {
    "deletable": false,
    "editable": false,
    "nbgrader": {
     "cell_type": "code",
     "checksum": "d1223a13fc134e2687d85cacab27a6bf",
     "grade": false,
     "grade_id": "TimeVisCode",
     "locked": true,
     "schema_version": 3,
     "solution": false,
     "task": false
    }
   },
   "outputs": [],
   "source": [
    "\n",
    "import os\n",
    "import librosa\n",
    "import librosa.display\n",
    "import matplotlib.pyplot as plt\n",
    "\n",
    "trumpet_long, trumpet_fs = librosa.load(librosa.ex('trumpet'))\n",
    "\n",
    "# take the first 3 seconds\n",
    "trumpet = trumpet_long[0:3*trumpet_fs]\n",
    "\n",
    "fig, ax = plt.subplots(figsize=(12,4))\n",
    "librosa.display.waveshow(trumpet, sr=trumpet_fs)\n",
    "\n",
    "display(Audio(trumpet, rate=trumpet_fs))\n",
    "\n"
   ]
  },
  {
   "cell_type": "markdown",
   "id": "d4116164",
   "metadata": {
    "deletable": false,
    "editable": false,
    "nbgrader": {
     "cell_type": "markdown",
     "checksum": "cf08376cba5a66469281e693877fb703",
     "grade": false,
     "grade_id": "cell-f6f02162762c3ef4",
     "locked": true,
     "schema_version": 3,
     "solution": false,
     "task": false
    }
   },
   "source": [
    "### Visualise a segment of the signal\n",
    "\n",
    "This audio signal is an example of a non-stationary signal. It contains a sequence of musical notes with different durations. To analyze the recording with more detail we can use an helper function to plot smaller segments of the signal. For example, the second note of the recording starts at around 210 ms and lasts for around 160 ms."
   ]
  },
  {
   "cell_type": "code",
   "execution_count": null,
   "id": "179c4810",
   "metadata": {
    "deletable": false,
    "editable": false,
    "nbgrader": {
     "cell_type": "code",
     "checksum": "33fe62f72783f0a2907915db8f7e4662",
     "grade": false,
     "grade_id": "cell-96f274a50fcfb0e4",
     "locked": true,
     "schema_version": 3,
     "solution": false,
     "task": false
    }
   },
   "outputs": [],
   "source": [
    "\n",
    "\n",
    "def waveshow_seg(x, fs, tmin=0, tmax=0):\n",
    "    if (tmin < 0) or (tmin > x.size/fs):\n",
    "        tmin = 0\n",
    "    if (tmax <= 0) or (tmax > x.size/fs): \n",
    "        tmax = x.size/fs\n",
    "    fig, ax = plt.subplots(figsize=(12,4))\n",
    "    ax.set(xlim=[tmin, tmax])\n",
    "    librosa.display.waveshow(x, sr=fs, x_axis='ms')\n",
    "    return\n",
    "\n",
    "start = 0.21\n",
    "end = 0.37\n",
    "waveshow_seg(trumpet, trumpet_fs, tmin=start, tmax=end)\n",
    "\n",
    "# select the segment for playing\n",
    "n_seg = np.arange(np.floor(start*trumpet_fs), np.ceil(end*trumpet_fs), dtype=int)\n",
    "Audio(trumpet[n_seg], rate=trumpet_fs)"
   ]
  },
  {
   "cell_type": "markdown",
   "id": "c1494044",
   "metadata": {
    "deletable": false,
    "editable": false,
    "nbgrader": {
     "cell_type": "markdown",
     "checksum": "e7c52bcb93c6e760fee6738e53d02960",
     "grade": false,
     "grade_id": "cell-fb7e747f6582bdfa",
     "locked": true,
     "schema_version": 3,
     "solution": false,
     "task": false
    }
   },
   "source": [
    "### Fundamental frequency\n",
    "\n",
    "The second note of the signal is not stationary: there is an on-set, a more or less stable region and a final decay. It is also noticible that the time interval between the peaks of the wave seem to be constant.\n",
    "\n",
    "#### A05 - Estimate the fundamental frequency\n",
    "\n",
    "❓Consider that the middle of the quasi-stationary region of the second note occurs at t=294 ms. Plot at least 8 full periods of the signal after that time instant and estimate the fundamental frequency of the note, that is, the inverse of the distance between peaks."
   ]
  },
  {
   "cell_type": "code",
   "execution_count": null,
   "id": "27a44f0e",
   "metadata": {
    "deletable": false,
    "nbgrader": {
     "cell_type": "code",
     "checksum": "8129d7f60c95503c0d12591637b87cf1",
     "grade": false,
     "grade_id": "NoteFrequency",
     "locked": false,
     "schema_version": 3,
     "solution": true,
     "task": false
    }
   },
   "outputs": [],
   "source": [
    "middle_stable_region = 0.294\n",
    "\n",
    "# YOUR CODE HERE\n",
    "raise NotImplementedError()\n",
    "\n",
    "print(f\"Second note frequency: {note_frequency:.2f} Hz\")\n",
    "\n"
   ]
  },
  {
   "cell_type": "code",
   "execution_count": null,
   "id": "24d46057",
   "metadata": {
    "deletable": false,
    "editable": false,
    "nbgrader": {
     "cell_type": "code",
     "checksum": "d56cc3d4bf7b8704f53efa681e239b89",
     "grade": true,
     "grade_id": "cell-883215c128fc48fd",
     "locked": true,
     "points": 10,
     "schema_version": 3,
     "solution": false,
     "task": false
    }
   },
   "outputs": [],
   "source": [
    "assert (note_frequency > 130) and (note_frequency < 4000)"
   ]
  },
  {
   "cell_type": "markdown",
   "id": "88c08e85",
   "metadata": {
    "deletable": false,
    "editable": false,
    "nbgrader": {
     "cell_type": "markdown",
     "checksum": "2dfe210c919f21d4008ec8c0b1b19ebf",
     "grade": false,
     "grade_id": "TimeVisTone",
     "locked": true,
     "schema_version": 3,
     "solution": false,
     "task": false
    }
   },
   "source": [
    "### Visualize your pure tone\n",
    "\n",
    "#### A06 - Generate your pure tone\n",
    "\n",
    "❓Use the function `sinewave()` to generate a sinusoidal signal (pure tone) with the duration of 2 seconds ($F_s = 22050 Hz$) and store it in a variable named `group_tone` and copy the first 3 periods to a variable named `group_tone_3p`."
   ]
  },
  {
   "cell_type": "code",
   "execution_count": null,
   "id": "b1d7479d",
   "metadata": {
    "deletable": false,
    "nbgrader": {
     "cell_type": "code",
     "checksum": "eb4c6f42b7babf460fda54a9aa8b2cbc",
     "grade": false,
     "grade_id": "P3-TimeVisTone",
     "locked": false,
     "schema_version": 3,
     "solution": true,
     "task": false
    }
   },
   "outputs": [],
   "source": [
    "\n",
    "\n",
    "fs = 22050\n",
    "\n",
    "# YOUR CODE HERE\n",
    "raise NotImplementedError()\n",
    "\n",
    "fig, ax = plt.subplots(figsize=(12,4))\n",
    "ax.set(title='3 Cycles of the group\\'s pure note')\n",
    "librosa.display.waveshow(group_tone_3p, sr=fs, marker='.', x_axis='ms')\n",
    "\n",
    "\n",
    "Audio(group_tone, rate=fs)"
   ]
  },
  {
   "cell_type": "code",
   "execution_count": null,
   "id": "cdfed96f",
   "metadata": {
    "deletable": false,
    "editable": false,
    "nbgrader": {
     "cell_type": "code",
     "checksum": "1a426f5beb4c2a6a819fafa432d72082",
     "grade": true,
     "grade_id": "P3-TimeVisToneTest",
     "locked": true,
     "points": 10,
     "schema_version": 3,
     "solution": false,
     "task": false
    }
   },
   "outputs": [],
   "source": [
    "assert np.isclose(len(group_tone), 2*fs)"
   ]
  },
  {
   "cell_type": "markdown",
   "id": "8ceb2e37",
   "metadata": {
    "deletable": false,
    "editable": false,
    "nbgrader": {
     "cell_type": "markdown",
     "checksum": "ba73636110f57c04ec27ee4e87d1916f",
     "grade": false,
     "grade_id": "FreqVis",
     "locked": true,
     "schema_version": 3,
     "solution": false,
     "task": false
    }
   },
   "source": [
    "### Frequency domain visualization\n",
    "\n",
    "The spectrum of a signal is composed by the range of frequencies presented in the signal. The discrete-time Fourier transform (DTFT) can be used to compute the frequency representation of a signal. However, the DTFT is a function of a real variable $\\omega \\in \\mathbb{R}$ that needs to be sampled for use in a digital computer.\n",
    "\n",
    "The sampled representation of the DTFT is called discrete Fourier transform (DFT) that allows a very efficient implementation using the fast Fourier transform (FFT):\n",
    "$$\n",
    "X(k) = \\sum_{n=0}^{N-1} x(n) e^{-j \\frac{2\\pi}{N} kn},\\; 0 \\leq k \\leq N-1\n",
    "$$\n",
    "\n",
    "Given the periodicity of the complex exponential $e^{-j \\frac{2\\pi}{N} kn}$, the definition of $X(k)$ results in a periodic sequence of period $N$. This is prevented by limiting the range of $k$.\n",
    "\n",
    "The `mag_spectrum()` function plots $|X(k)|$, the magnitude of the spectrum of the sequence $x(n)$."
   ]
  },
  {
   "cell_type": "code",
   "execution_count": null,
   "id": "b14df765",
   "metadata": {
    "deletable": false,
    "editable": false,
    "nbgrader": {
     "cell_type": "code",
     "checksum": "06efdf49fad03d7b16880282fd387ba8",
     "grade": false,
     "grade_id": "cell-4696c65e35830185",
     "locked": true,
     "schema_version": 3,
     "solution": false,
     "task": false
    }
   },
   "outputs": [],
   "source": [
    "\n",
    "\n",
    "from scipy.fft import fft\n",
    "import math\n",
    "from matplotlib import pyplot as plt\n",
    "\n",
    "import numpy as np\n",
    "from numpy.fft import fft\n",
    "\n",
    "from matplotlib import pyplot as plt\n",
    "\n",
    "def mag_spectrum(x, fs, fmin=0, fmax=0):\n",
    "    \"\"\"\n",
    "    Plot the magnitude spectrum of sequence x\n",
    "    using the sampling frequency fs\n",
    "    \"\"\"\n",
    "\n",
    "    X = fft(x)\n",
    "    X_mag = np.absolute(X)\n",
    "    \n",
    "    # the DFT samples the frequency range with N points\n",
    "    f = np.linspace(0,fs, X.size)\n",
    "    \n",
    "    # plot frequency range\n",
    "    if (fmin < 0 or fmin>fs):\n",
    "        fmin = 0\n",
    "    if (fmax <= 0 or fmax>fs):\n",
    "        fmax = fs/2\n",
    "    \n",
    "    # plot\n",
    "    fig, ax = plt.subplots(figsize=(10,6))\n",
    "    ax.set(xlim=(fmin, fmax))\n",
    "    ax.plot(f, X_mag)\n",
    "    plt.xlabel('Frequency (Hz)')\n",
    "    plt.grid()\n",
    "\n",
    "# Test: plot the magnitude spectrum of the group's tone\n",
    "mag_spectrum(group_tone, fs, fmin=0, fmax=fs)\n",
    "\n"
   ]
  },
  {
   "cell_type": "markdown",
   "id": "902203a8",
   "metadata": {
    "deletable": false,
    "editable": false,
    "nbgrader": {
     "cell_type": "markdown",
     "checksum": "c5ec977a20f1efe4974c8daddfbf7430",
     "grade": false,
     "grade_id": "cell-2a01b706b67da57d",
     "locked": true,
     "schema_version": 3,
     "solution": false,
     "task": false
    }
   },
   "source": [
    "### Symmetry Property of the DFT\n",
    "\n",
    "As shown in the previous plot, if $x(n)$ is a sequence of real values, the coefficients of it's DFT have the property that $|X(k)| = |X(N-k)|$. For this reason, we can limit the range of the spectrum to half of the sampling frequency without loss of information."
   ]
  },
  {
   "cell_type": "code",
   "execution_count": null,
   "id": "37a02942",
   "metadata": {},
   "outputs": [],
   "source": [
    "mag_spectrum(group_tone, fs, fmin=0, fmax=fs/2)"
   ]
  },
  {
   "cell_type": "markdown",
   "id": "88541745",
   "metadata": {},
   "source": [
    "To confirm that the frequency of the peak corresponds to the group's frequency, we can limit the plot to the vicinity of that frequency"
   ]
  },
  {
   "cell_type": "code",
   "execution_count": null,
   "id": "2ac7a7ac",
   "metadata": {
    "deletable": false,
    "editable": false,
    "nbgrader": {
     "cell_type": "code",
     "checksum": "ca02f38094e41885a7cb9eb44d323180",
     "grade": false,
     "grade_id": "cell-1da53599ec900e53",
     "locked": true,
     "schema_version": 3,
     "solution": false,
     "task": false
    }
   },
   "outputs": [],
   "source": [
    "mag_spectrum(group_tone, fs, fmin=group_frequency-3, fmax=group_frequency+3)\n",
    "print(f\"The group's frequency is {group_frequency:.2f} Hz\")"
   ]
  },
  {
   "cell_type": "markdown",
   "id": "eab47ecb",
   "metadata": {
    "deletable": false,
    "editable": false,
    "nbgrader": {
     "cell_type": "markdown",
     "checksum": "552abbde2c4bead58a28d01a7d9a22a0",
     "grade": false,
     "grade_id": "P7",
     "locked": true,
     "schema_version": 3,
     "solution": false,
     "task": false
    }
   },
   "source": [
    "### Square wave harmonics\n",
    "\n",
    "Any periodic signal can be decomposed into a sum of sinusoids with frequencies that are a multiples of the fundamental frequency. Those frequencies are called harmonics.\n",
    "\n",
    "#### A07 - Generate your square wave\n",
    "\n",
    "❓Create a sequence name `sqw` with 2048 samples a square wave with your group's frequency (at 22050 samples/s), plot it's magnitude spectrum and assign the frequency of the first 2 peaks to the variables named `peak1freq` and `peak2freq`"
   ]
  },
  {
   "cell_type": "code",
   "execution_count": null,
   "id": "a039bbf9",
   "metadata": {
    "deletable": false,
    "nbgrader": {
     "cell_type": "code",
     "checksum": "bafdb9594ab13b9923736e71d9539757",
     "grade": false,
     "grade_id": "SqWaveSpectPeaks",
     "locked": false,
     "schema_version": 3,
     "solution": true,
     "task": false
    }
   },
   "outputs": [],
   "source": [
    "# YOUR CODE HERE\n",
    "raise NotImplementedError()\n",
    "mag_spectrum(sqw, fs)\n",
    "print(f\"The first peak frequency is {peak1freq:.3f} Hz\")\n",
    "print(f\"The second peak frequency is {peak2freq:.3f} Hz\")"
   ]
  },
  {
   "cell_type": "code",
   "execution_count": null,
   "id": "959748d3",
   "metadata": {
    "deletable": false,
    "editable": false,
    "nbgrader": {
     "cell_type": "code",
     "checksum": "fa4d0a3dadaf689542afd874c23b2900",
     "grade": true,
     "grade_id": "cell-f2f1ebdb0770e46b",
     "locked": true,
     "points": 10,
     "schema_version": 3,
     "solution": false,
     "task": false
    }
   },
   "outputs": [],
   "source": [
    "assert len(sqw)==2048\n",
    "assert np.isclose(peak1freq, group_frequency)\n"
   ]
  },
  {
   "cell_type": "markdown",
   "id": "f2e718eb",
   "metadata": {
    "deletable": false,
    "editable": false,
    "nbgrader": {
     "cell_type": "markdown",
     "checksum": "11ed05da9ee619b0b30983760516441a",
     "grade": false,
     "grade_id": "cell-68f797c979f96d3f",
     "locked": true,
     "schema_version": 3,
     "solution": false,
     "task": false
    }
   },
   "source": [
    "### Trumpet note harmonics\n",
    "\n",
    "#### A08 - Locate the harmonics\n",
    "\n",
    "❓Create a sequence name `note` with 1024 samples around the middle of stable region of the second note of the trumpet recording, plot it's magnitude spectrum and assign the frequency of the first 5 peaks to an array named `note_freq_peaks`.\n"
   ]
  },
  {
   "cell_type": "code",
   "execution_count": null,
   "id": "149b0d52",
   "metadata": {
    "deletable": false,
    "nbgrader": {
     "cell_type": "code",
     "checksum": "06e920317214d0ad2796f4fc12702a02",
     "grade": false,
     "grade_id": "cell-84918a8f9e6ee46a",
     "locked": false,
     "schema_version": 3,
     "solution": true,
     "task": false
    }
   },
   "outputs": [],
   "source": [
    "N = 1024\n",
    "tmiddle = middle_stable_region\n",
    "# YOUR CODE HERE\n",
    "raise NotImplementedError()\n",
    "mag_spectrum(note, trumpet_fs)\n",
    "print(f\"Peak 1 frequency is {note_freq_peaks[0]} Hz\")\n",
    "print(f\"Peak 2 frequency is {note_freq_peaks[1]} Hz\")\n",
    "print(f\"Peak 3 frequency is {note_freq_peaks[2]} Hz\")\n",
    "print(f\"Peak 4 frequency is {note_freq_peaks[3]} Hz\")\n",
    "print(f\"Peak 5 frequency is {note_freq_peaks[4]} Hz\")"
   ]
  },
  {
   "cell_type": "code",
   "execution_count": null,
   "id": "83686651",
   "metadata": {
    "deletable": false,
    "editable": false,
    "nbgrader": {
     "cell_type": "code",
     "checksum": "711e4d5f938cd862e0598e25f885f2a2",
     "grade": true,
     "grade_id": "cell-0231b648249a689b",
     "locked": true,
     "points": 10,
     "schema_version": 3,
     "solution": false,
     "task": false
    }
   },
   "outputs": [],
   "source": [
    "assert len(note)==1024\n",
    "assert np.isclose(note_freq_peaks[0], note_frequency, atol=10)"
   ]
  },
  {
   "cell_type": "markdown",
   "id": "cb9af5ff",
   "metadata": {
    "deletable": false,
    "editable": false,
    "nbgrader": {
     "cell_type": "markdown",
     "checksum": "211e987e29d797620ea8aeacac481833",
     "grade": false,
     "grade_id": "cell-2ad6fc55bc6d8ea1",
     "locked": true,
     "schema_version": 3,
     "solution": false,
     "task": false
    }
   },
   "source": [
    "### Resampling\n",
    "\n",
    "Resampling, or sample-rate conversion, is the process of obtaining a new discrete representation of the underlying continuous signal with a different sampling interval.\n",
    "\n",
    "There are two basic operations in sample-rate conversion:\n",
    "\n",
    "1. Decimation: the reduction of the sample-rate by an integer factor of $M$\n",
    "$$\n",
    "x_{d}(n) = x(Mn)\n",
    "$$\n",
    "\n",
    "2. Interpolation: the increase of the sample-rate by an integer factor of $L$\n",
    "$$\n",
    "x_e(n) = \n",
    "    \\begin{cases}\n",
    "    x(n/L) & n=0, \\pm L, \\pm 2 L, \\ldots\\\\\n",
    "    0 & \\text{otherwise}\n",
    "    \\end{cases}\n",
    "$$\n",
    "The decimated signal $x_d(n)$ has fewer samples than the original signal $x(n)$, while the interpolated signal $x_{e}(n)$ as more samples than the original.\n",
    "\n",
    "The next code cell decimates the audio signal by a factor of $M=6$.\n"
   ]
  },
  {
   "cell_type": "code",
   "execution_count": null,
   "id": "e514a996",
   "metadata": {
    "deletable": false,
    "editable": false,
    "nbgrader": {
     "cell_type": "code",
     "checksum": "682e56098948edf8e5c235b8fa8842ed",
     "grade": false,
     "grade_id": "cell-d4efc28a38cc00c4",
     "locked": true,
     "schema_version": 3,
     "solution": false,
     "task": false
    }
   },
   "outputs": [],
   "source": [
    "M = 6\n",
    "trumpet_dec = trumpet[::int(M)]\n",
    "display(Audio(trumpet, rate=trumpet_fs))\n",
    "display(Audio(trumpet_dec, rate=trumpet_fs/M))\n",
    "print(f\"The new sample rate is {trumpet_fs/M} Hz\")"
   ]
  },
  {
   "cell_type": "markdown",
   "id": "c380a4d4",
   "metadata": {
    "deletable": false,
    "editable": false,
    "nbgrader": {
     "cell_type": "markdown",
     "checksum": "e064abbac1643c4f8468742f6a409c58",
     "grade": false,
     "grade_id": "cell-711b1090b3ce48f5",
     "locked": true,
     "schema_version": 3,
     "solution": false,
     "task": false
    }
   },
   "source": [
    "### Aliasing\n",
    "\n",
    "In the previous example you could ear that the decimation distorted the signal. This type of distortion is called _aliasing_.\n",
    "\n",
    "To understand what happened, we can look at the magnitude spectrum of the stationary region of the second note, stored in the `note` array, when plotted in a full frequency scale."
   ]
  },
  {
   "cell_type": "code",
   "execution_count": null,
   "id": "b846288a",
   "metadata": {},
   "outputs": [],
   "source": [
    "M=6\n",
    "note_dec = note[::int(M)]\n",
    "display(Audio(note, rate=fs))\n",
    "display(Audio(note_dec, rate=fs/M))\n",
    "plt.show()\n",
    "mag_spectrum(note, fs, fmax=trumpet_fs)\n",
    "plt.show()\n",
    "mag_spectrum(note_dec, fs/M, fmax=trumpet_fs/M)"
   ]
  },
  {
   "cell_type": "markdown",
   "id": "c6ba18db",
   "metadata": {
    "deletable": false,
    "editable": false,
    "nbgrader": {
     "cell_type": "markdown",
     "checksum": "f048f2c6665158cfbef034c2822253fd",
     "grade": false,
     "grade_id": "cell-a10da3d27536c9a5",
     "locked": true,
     "schema_version": 3,
     "solution": false,
     "task": false
    }
   },
   "source": [
    "#### A09 compare decimated with original note\n",
    "\n",
    "❓Locate the frequencies of the peaks of the decimated note and compare with the frequencies of the first 5 harmonics of the original signal. Explain what happened. (100 words max)"
   ]
  },
  {
   "cell_type": "code",
   "execution_count": null,
   "id": "8ee5ae42",
   "metadata": {
    "deletable": false,
    "nbgrader": {
     "cell_type": "code",
     "checksum": "20011da1dedda6d76c1601ff469573c3",
     "grade": true,
     "grade_id": "cell-184e9e85ffc82f91",
     "locked": false,
     "points": 10,
     "schema_version": 3,
     "solution": true,
     "task": false
    }
   },
   "outputs": [],
   "source": [
    "# YOUR CODE HERE\n",
    "raise NotImplementedError()"
   ]
  },
  {
   "cell_type": "markdown",
   "id": "1936e1df",
   "metadata": {
    "deletable": false,
    "editable": false,
    "nbgrader": {
     "cell_type": "markdown",
     "checksum": "ab1ab3e8c645384d283ce8f6fb570c1a",
     "grade": false,
     "grade_id": "cell-dee6534ce799172d",
     "locked": true,
     "schema_version": 3,
     "solution": false,
     "task": false
    }
   },
   "source": [
    "### FIR low-pass filter\n",
    "\n",
    "A finite impulse response (FIR) filter is a type of filter whose impulse response is of finite duration, that is, it becomes zero after a certain amount of time. It is described by the following difference equation:\n",
    "$$\n",
    "y(n) = \\sum_{k=0}^{N-1} b_{k} x(n-k)\n",
    "$$\n",
    "where $x(n)$ is the filter input signal, $y(n)$ is its output, and $N$ is the order of the filter.\n",
    "\n",
    "Contrary to an infinite impulse response (IIR) filter, an output sample of an FIR filter does not depend on the values of other output samples.\n",
    "\n",
    "The process of FIR filter design is based on the impulse response of an ideal filter with the desired characteristics, truncated by a finite-length window.\n",
    "\n",
    "The next code cell uses a low-pass filter of order 100 and a cut-off frequency of $\\omega_c = \\pi/M$ rad/sample. This cut-off frequency corresponds to $f_c=F_s/(2M)$ Hz, where $F_s$ is the sampling frequency."
   ]
  },
  {
   "cell_type": "code",
   "execution_count": null,
   "id": "2f910f07",
   "metadata": {
    "deletable": false,
    "editable": false,
    "nbgrader": {
     "cell_type": "code",
     "checksum": "465af9ee42fd1ed936d681f02b817558",
     "grade": false,
     "grade_id": "cell-7d7b8b8406e7ea3b",
     "locked": true,
     "schema_version": 3,
     "solution": false,
     "task": false
    }
   },
   "outputs": [],
   "source": [
    "import scipy.signal as sig\n",
    "\n",
    "M=6\n",
    "\n",
    "b = sig.firwin(100, 1/M)\n",
    "trumpet_filt = sig.lfilter(b, 1, trumpet)\n",
    "trumpet_filt_dec = trumpet_filt[::M]\n",
    "\n",
    "display(Audio(trumpet, rate=fs))\n",
    "display(Audio(trumpet_dec, rate=fs/M))\n",
    "display(Audio(trumpet_filt_dec, rate=fs/M))\n",
    "\n",
    "\n",
    "note_filt = sig.lfilter(b, 1, note)\n",
    "note_filt_dec = note_filt[::M]\n",
    "\n",
    "mag_spectrum(note, trumpet_fs, fmax=trumpet_fs)\n",
    "plt.show()\n",
    "mag_spectrum(note_filt, trumpet_fs, fmax=trumpet_fs)\n",
    "plt.show()\n",
    "mag_spectrum(note_filt_dec, trumpet_fs/M, fmax=trumpet_fs/M)\n"
   ]
  },
  {
   "cell_type": "markdown",
   "id": "80c8f4d1",
   "metadata": {
    "deletable": false,
    "editable": false,
    "nbgrader": {
     "cell_type": "markdown",
     "checksum": "3a48e6ea79a21fcc437f489d1087a8f2",
     "grade": false,
     "grade_id": "cell-8cde078de64d6469",
     "locked": true,
     "schema_version": 3,
     "solution": false,
     "task": false
    }
   },
   "source": [
    "#### A10 Effect of the low-pass filter\n",
    "\n",
    "❓Compare the sound of the three versions of the recording and explain the effect of the filter. What is the reason for choosing a cut-off frequency of $f_c=F_s/(2M)$ Hz? (150 words max)"
   ]
  },
  {
   "cell_type": "code",
   "execution_count": null,
   "id": "e68ce70a",
   "metadata": {
    "deletable": false,
    "nbgrader": {
     "cell_type": "code",
     "checksum": "cac0d438cf17ab5b19763973caa62bf8",
     "grade": true,
     "grade_id": "cell-e6fef87019f406da",
     "locked": false,
     "points": 15,
     "schema_version": 3,
     "solution": true,
     "task": false
    }
   },
   "outputs": [],
   "source": [
    "# YOUR CODE HERE\n",
    "raise NotImplementedError()"
   ]
  }
 ],
 "metadata": {
  "kernelspec": {
   "display_name": "Python 3 (ipykernel)",
   "language": "python",
   "name": "python3"
  },
  "language_info": {
   "codemirror_mode": {
    "name": "ipython",
    "version": 3
   },
   "file_extension": ".py",
   "mimetype": "text/x-python",
   "name": "python",
   "nbconvert_exporter": "python",
   "pygments_lexer": "ipython3",
   "version": "3.9.16"
  }
 },
 "nbformat": 4,
 "nbformat_minor": 5
}
